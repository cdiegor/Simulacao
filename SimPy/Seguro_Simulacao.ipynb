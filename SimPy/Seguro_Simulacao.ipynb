{
  "nbformat": 4,
  "nbformat_minor": 0,
  "metadata": {
    "colab": {
      "provenance": [],
      "collapsed_sections": [],
      "history_visible": true
    },
    "kernelspec": {
      "name": "python3",
      "display_name": "Python 3"
    },
    "language_info": {
      "name": "python"
    }
  },
  "cells": [
    {
      "cell_type": "code",
      "source": [
        "#pip install simpy"
      ],
      "metadata": {
        "id": "xr0oZtdNRXD0"
      },
      "execution_count": null,
      "outputs": []
    },
    {
      "cell_type": "code",
      "source": [
        "import simpy as sp\n",
        "import numpy as np"
      ],
      "metadata": {
        "id": "fHPC00vgdVHp"
      },
      "execution_count": null,
      "outputs": []
    },
    {
      "cell_type": "code",
      "source": [
        "n = 10     #nº inicial de clientes\n",
        "c = 1000   #capital inicial \n",
        "lamb = 1/4 #taxa de chegada, chega 4 por mes\n",
        "mu = 12    #taxa de saida, fica 1 ano\n",
        "rhu = 3    #taxa de ocorrencia de acionamento\n",
        "m = 40     #mensalidade\n",
        "v = 100    #valor médio da ocorrencia\n",
        "d = 40     #desvio p. da ocorrencia\n",
        "T = 24     #tempo simulando\n",
        "ult_event = 0 # tempo do ultimo evento"
      ],
      "metadata": {
        "id": "Yvv1DTEBXokL"
      },
      "execution_count": null,
      "outputs": []
    },
    {
      "cell_type": "code",
      "source": [
        "def simula_Seguro():\n",
        "  min = np.Inf\n",
        "  def chegada(env):\n",
        "    global n\n",
        "    global c\n",
        "    global lamb\n",
        "    global ult_event\n",
        "    global m\n",
        "    while True:\n",
        "      yield env.timeout(np.random.exponential(lamb))\n",
        "      dist = env.now - ult_event\n",
        "      c = c + dist*m*n #cobrança proporcional ao tempo que passou\n",
        "      ult_event = env.now\n",
        "      #print(\"Chegada, capital: \",c,\"Tempo: \",ult_event)\n",
        "      n=n+1\n",
        "      if(n==1):\n",
        "        env.process(saida(env))\n",
        "        env.process(ocorrencia(env))\n",
        "\n",
        "  def saida(env):\n",
        "    global n\n",
        "    global c\n",
        "    global mu\n",
        "    global ult_event\n",
        "    global m\n",
        "    while n>0:\n",
        "      yield env.timeout(np.random.exponential(mu/n))\n",
        "\n",
        "      dist = env.now- ult_event\n",
        "      c = c +dist*m*n\n",
        "      ult_event = env.now\n",
        "      n=n-1\n",
        "\n",
        "  def ocorrencia(env):\n",
        "    global rhu\n",
        "    global ult_event\n",
        "    global n\n",
        "    global v,d,c\n",
        "    \n",
        "    while n>0:\n",
        "      yield env.timeout(np.random.exponential(rhu/n))\n",
        "      c = c - np.random.normal(v, d)\n",
        "      if (c < min):\n",
        "        min = c\n",
        "      #print(\"Ocorrencia, capital: \",c,\"Tempo: \", env.now )\n",
        "\n",
        "  env = sp.Environment()\n",
        "  env.process(chegada(env))\n",
        "  if (n>0):\n",
        "    env.process(saida(env))\n",
        "    env.process(ocorrencia(env))\n",
        "  env.run(until=T)\n",
        "  return min"
      ],
      "metadata": {
        "id": "XE5IkS2meWRN"
      },
      "execution_count": null,
      "outputs": []
    },
    {
      "cell_type": "code",
      "source": [
        "for _ in range(10):\n",
        "  n = 10     #nº inicial de clientes\n",
        "  c = 1000   #capital inicial \n",
        "  lamb = 1/4 #taxa de chegada, chega 4 por mes\n",
        "  mu = 12    #taxa de saida, fica 1 ano\n",
        "  rhu = 3    #taxa de ocorrencia de acionamento\n",
        "  m = 40     #mensalidade\n",
        "  v = 100    #valor médio da ocorrencia\n",
        "  d = 40     #desvio p. da ocorrencia\n",
        "  T = 24     #tempo simulando\n",
        "  ult_event = 0 # tempo do ultimo evento\n",
        "  print(simula_Seguro())"
      ],
      "metadata": {
        "colab": {
          "base_uri": "https://localhost:8080/"
        },
        "id": "CvA0hmPgmHYR",
        "outputId": "35843be7-eebb-468a-ad09-42e3a4636f51"
      },
      "execution_count": null,
      "outputs": [
        {
          "output_type": "stream",
          "name": "stdout",
          "text": [
            "8100.444607494938 0\n",
            "8028.112673316756 1\n",
            "9182.587643643783 2\n",
            "6391.538748270685 3\n",
            "5180.599915848875 4\n",
            "9705.298609609134 5\n",
            "9236.215467264523 6\n",
            "10226.68585193735 7\n",
            "3835.1467905458358 8\n",
            "8040.424006532113 9\n"
          ]
        }
      ]
    }
  ]
}