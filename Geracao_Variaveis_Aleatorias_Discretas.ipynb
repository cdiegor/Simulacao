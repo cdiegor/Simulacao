{
  "nbformat": 4,
  "nbformat_minor": 5,
  "metadata": {
    "kernelspec": {
      "display_name": "Python 3",
      "language": "python",
      "name": "python3"
    },
    "language_info": {
      "name": "python",
      "version": "3.11.8",
      "mimetype": "text/x-python",
      "file_extension": ".py"
    },
    "authors": [
      {
        "name": "Seu Nome"
      }
    ],
    "colab": {
      "provenance": [],
      "include_colab_link": true
    }
  },
  "cells": [
    {
      "cell_type": "markdown",
      "metadata": {
        "id": "view-in-github",
        "colab_type": "text"
      },
      "source": [
        "<a href=\"https://colab.research.google.com/github/cdiegor/Simulacao/blob/main/Geracao_Variaveis_Aleatorias_Discretas.ipynb\" target=\"_parent\"><img src=\"https://colab.research.google.com/assets/colab-badge.svg\" alt=\"Open In Colab\"/></a>"
      ]
    },
    {
      "cell_type": "markdown",
      "metadata": {
        "id": "4HKgSToWSJkN"
      },
      "source": [
        "Geração de Variáveis Aleatórias (Distribuições Discretas) —\n",
        "\n"
      ],
      "id": "4HKgSToWSJkN"
    },
    {
      "cell_type": "markdown",
      "metadata": {
        "id": "6MNIPYrVSJkP"
      },
      "source": [
        "### Motores Categóricos & Validação\n"
      ],
      "id": "6MNIPYrVSJkP"
    },
    {
      "cell_type": "markdown",
      "metadata": {
        "id": "nMlkyOetSJkQ"
      },
      "source": [
        "## ⚙️ Ambiente e Utilitários"
      ],
      "id": "nMlkyOetSJkQ"
    },
    {
      "cell_type": "code",
      "metadata": {
        "id": "XGqHKGIuSJkR"
      },
      "execution_count": null,
      "outputs": [],
      "source": [
        "# =========================\n",
        "# Utilitários: RNG, testes, bench\n",
        "# =========================\n",
        "import numpy as np\n",
        "import time\n",
        "from math import sqrt\n",
        "\n",
        "def make_rng(seed=None):\n",
        "    \"\"\"Cria um Generator (PCG64) reprodutível.\"\"\"\n",
        "    return np.random.Generator(np.random.PCG64(seed))\n",
        "\n",
        "def chisq_discrete(samples, support, pmf):\n",
        "    \"\"\"Retorna (estatística, gl, p) do teste qui-quadrado para suporte discreto.\n",
        "    'support': array 1D com valores possíveis; 'pmf': probabilidades que somem 1.\n",
        "    Observação: para células com esperado < 5, o p-valor pode ficar inválido; rebinning recomendado.\n",
        "    \"\"\"\n",
        "    samples = np.asarray(samples)\n",
        "    support = np.asarray(support)\n",
        "    pmf = np.asarray(pmf, dtype=float)\n",
        "    n = samples.size\n",
        "    # contagens observadas\n",
        "    key_to_idx = {v: i for i, v in enumerate(support)}\n",
        "    counts = np.zeros_like(pmf, dtype=int)\n",
        "    for x in samples:\n",
        "        i = key_to_idx.get(x)\n",
        "        if i is not None:\n",
        "            counts[i] += 1\n",
        "    expected = n * pmf\n",
        "    obs, expd = counts.astype(float), expected.astype(float)\n",
        "    # checagem simples de células raras\n",
        "    if np.any(expd < 5):\n",
        "        stat = np.sum((obs - expd)**2 / np.maximum(expd, 1e-12))\n",
        "        df = max(len(pmf) - 1, 1)\n",
        "        p = np.nan  # rebin necessário para p adequado\n",
        "        return stat, df, p\n",
        "    stat = np.sum((obs - expd)**2 / expd)\n",
        "    df = len(pmf) - 1\n",
        "    try:\n",
        "        from scipy.stats import chi2\n",
        "        p = chi2.sf(stat, df)\n",
        "    except Exception:\n",
        "        # aproximação normal para qui-quadrado\n",
        "        z = (stat - df) / sqrt(2 * df)\n",
        "        from math import erf\n",
        "        p = 0.5 * (1 - erf(z / sqrt(2)))\n",
        "    return stat, df, p\n",
        "\n",
        "def check_moments(samples, mean_true, var_true):\n",
        "    \"\"\"Compara média/variância empíricas com valores teóricos.\"\"\"\n",
        "    x = np.asarray(samples)\n",
        "    mean_emp = x.mean()\n",
        "    var_emp = x.var(ddof=1)\n",
        "    return mean_emp, var_emp, mean_emp - mean_true, var_emp - var_true\n",
        "\n",
        "def time_draw(fn, *args, repeat=3, **kwargs):\n",
        "    \"\"\"Cronometra a função geradora, retornando (resultado, melhor_tempo_s).\"\"\"\n",
        "    best = float('inf')\n",
        "    out = None\n",
        "    for _ in range(repeat):\n",
        "        t0 = time.perf_counter()\n",
        "        out = fn(*args, **kwargs)\n",
        "        dt = time.perf_counter() - t0\n",
        "        best = min(best, dt)\n",
        "    return out, best"
      ],
      "id": "XGqHKGIuSJkR"
    },
    {
      "cell_type": "markdown",
      "metadata": {
        "id": "lz8BbmLVSJkS"
      },
      "source": [
        "## 🧮 Categórica — Inversa & Alias"
      ],
      "id": "lz8BbmLVSJkS"
    },
    {
      "cell_type": "code",
      "metadata": {
        "id": "iueSOl4-SJkS"
      },
      "execution_count": null,
      "outputs": [],
      "source": [
        "# =========================\n",
        "# Categórica: CDF inversa (busca binária) e Alias (Walker–Vose)\n",
        "# =========================\n",
        "def categorical_inverse(p, size, rng=None):\n",
        "    \"\"\"Amostra 'size' valores de uma distribuição categórica com probs p (CDF inversa).\n",
        "    Retorna índices inteiros em [0, K-1].\n",
        "    \"\"\"\n",
        "    rng = make_rng() if rng is None else rng\n",
        "    p = np.asarray(p, dtype=float)\n",
        "    p = p / p.sum()\n",
        "    cdf = np.cumsum(p)\n",
        "    u = rng.random(size)\n",
        "    return np.searchsorted(cdf, u, side='left')\n",
        "\n",
        "class AliasTable:\n",
        "    \"\"\"Tabela de alias de Walker–Vose para amostragem O(1) após preparo O(K).\"\"\"\n",
        "    def __init__(self, p):\n",
        "        p = np.asarray(p, dtype=float)\n",
        "        if p.sum() <= 0:\n",
        "            raise ValueError(\"As probabilidades devem somar > 0\")\n",
        "        p = p / p.sum()\n",
        "        K = len(p)\n",
        "        self.prob = np.zeros(K)\n",
        "        self.alias = np.zeros(K, dtype=int)\n",
        "        q = p * K\n",
        "        small = [i for i, x in enumerate(q) if x < 1.0]\n",
        "        large = [i for i, x in enumerate(q) if x >= 1.0]\n",
        "        while small and large:\n",
        "            i = small.pop()\n",
        "            j = large.pop()\n",
        "            self.prob[i] = q[i]\n",
        "            self.alias[i] = j\n",
        "            q[j] = q[j] - (1.0 - q[i])\n",
        "            if q[j] < 1.0:\n",
        "                small.append(j)\n",
        "            else:\n",
        "                large.append(j)\n",
        "        for j in large + small:\n",
        "            self.prob[j] = 1.0\n",
        "            self.alias[j] = j\n",
        "\n",
        "    def sample(self, size, rng=None):\n",
        "        rng = make_rng() if rng is None else rng\n",
        "        K = len(self.prob)\n",
        "        i = (rng.random(size) * K).astype(int)\n",
        "        u = rng.random(size)\n",
        "        take = u < self.prob[i]\n",
        "        out = np.where(take, i, self.alias[i])\n",
        "        return out"
      ],
      "id": "iueSOl4-SJkS"
    },
    {
      "cell_type": "markdown",
      "metadata": {
        "id": "eQniwozGSJkT"
      },
      "source": [
        "## 🎯 Geométrica & NegBin"
      ],
      "id": "eQniwozGSJkT"
    },
    {
      "cell_type": "code",
      "metadata": {
        "id": "zQZa0P8OSJkT"
      },
      "execution_count": null,
      "outputs": [],
      "source": [
        "# =========================\n",
        "# Geométrica (duas parametrizações) e NegBin (mistura Poisson–Gama)\n",
        "# =========================\n",
        "def geometric_trials(p, size, rng=None):\n",
        "    \"\"\"Geom(p) em {1,2,...}: número de tentativas até o 1º sucesso.\"\"\"\n",
        "    rng = make_rng() if rng is None else rng\n",
        "    u = rng.random(size)\n",
        "    return 1 + np.floor(np.log1p(-u) / np.log1p(-p)).astype(int)\n",
        "\n",
        "def geometric_failures(p, size, rng=None):\n",
        "    \"\"\"Geom(p) em {0,1,...}: número de falhas antes do 1º sucesso.\"\"\"\n",
        "    rng = make_rng() if rng is None else rng\n",
        "    u = rng.random(size)\n",
        "    return np.floor(np.log1p(-u) / np.log1p(-p)).astype(int)\n",
        "\n",
        "def negbin(r, p, size, rng=None):\n",
        "    \"\"\"NegBin(r,p) via mistura Poisson–Gama (r > 0 não precisa ser inteiro).\"\"\"\n",
        "    rng = make_rng() if rng is None else rng\n",
        "    lam = rng.gamma(shape=r, scale=(1-p)/p, size=size)\n",
        "    return rng.poisson(lam)"
      ],
      "id": "zQZa0P8OSJkT"
    },
    {
      "cell_type": "markdown",
      "metadata": {
        "id": "GCNwgdeMSJkT"
      },
      "source": [
        "## 🔢 Poisson"
      ],
      "id": "GCNwgdeMSJkT"
    },
    {
      "cell_type": "code",
      "metadata": {
        "id": "VnZmgIWjSJkU"
      },
      "execution_count": null,
      "outputs": [],
      "source": [
        "# =========================\n",
        "# Poisson: Knuth (λ pequeno) + wrapper\n",
        "# =========================\n",
        "def poisson_knuth(lam, size, rng=None):\n",
        "    \"\"\"Método do produto de Knuth; eficiente para λ <= ~30.\"\"\"\n",
        "    rng = make_rng() if rng is None else rng\n",
        "    lam = float(lam)\n",
        "    L = np.exp(-lam)\n",
        "    out = np.empty(size, dtype=int)\n",
        "    for i in range(size):\n",
        "        k = 0\n",
        "        t = 1.0\n",
        "        while t > L:\n",
        "            k += 1\n",
        "            t *= rng.random()\n",
        "        out[i] = k - 1\n",
        "    return out\n",
        "\n",
        "def poisson_any(lam, size, rng=None):\n",
        "    \"\"\"Wrapper: usa Knuth para λ<=30 e NumPy para λ maior (didático).\"\"\"\n",
        "    rng = make_rng() if rng is None else rng\n",
        "    lam = float(lam)\n",
        "    if lam <= 30:\n",
        "        return poisson_knuth(lam, size, rng)\n",
        "    return rng.poisson(lam, size)"
      ],
      "id": "VnZmgIWjSJkU"
    },
    {
      "cell_type": "markdown",
      "metadata": {
        "id": "NqdD9UPlSJkU"
      },
      "source": [
        "## 🧰 Binomial"
      ],
      "id": "NqdD9UPlSJkU"
    },
    {
      "cell_type": "code",
      "metadata": {
        "id": "TRR66JjhSJkU"
      },
      "execution_count": null,
      "outputs": [],
      "source": [
        "# =========================\n",
        "# Binomial: inversão via recorrência + wrappers\n",
        "# =========================\n",
        "from math import sqrt\n",
        "\n",
        "def binomial_inv(n, p, size, rng=None):\n",
        "    \"\"\"Inversão por recorrência estável (laboratório; n moderado).\n",
        "    Custo ~ O(n) por amostra quando p ~ 0.5 (atravessar a CDF).\n",
        "    \"\"\"\n",
        "    rng = make_rng() if rng is None else rng\n",
        "    n = int(n); p = float(p)\n",
        "    q = 1.0 - p\n",
        "    out = np.empty(size, dtype=int)\n",
        "    for i in range(size):\n",
        "        u = rng.random()\n",
        "        k = 0\n",
        "        w = q**n  # P(X=0)\n",
        "        c = w\n",
        "        while u > c and k < n:\n",
        "            k += 1\n",
        "            w *= (n - (k - 1)) / k * (p / q)\n",
        "            c += w\n",
        "        out[i] = k\n",
        "    return out\n",
        "\n",
        "def binomial_normal_approx(n, p, size, rng=None):\n",
        "    rng = make_rng() if rng is None else rng\n",
        "    mu = n * p\n",
        "    sigma = sqrt(n * p * (1 - p))\n",
        "    x = rng.normal(mu, sigma, size)  # com correção de continuidade ao arredondar\n",
        "    return np.clip(np.round(x), 0, n).astype(int)\n",
        "\n",
        "def binomial_poisson_approx(n, p, size, rng=None):\n",
        "    rng = make_rng() if rng is None else rng\n",
        "    lam = n * p\n",
        "    return rng.poisson(lam, size)\n",
        "\n",
        "def binomial_any(n, p, size, rng=None):\n",
        "    \"\"\"Wrapper didático de regime: usa inversão em n moderado e NumPy no geral.\"\"\"\n",
        "    n = int(n); p = float(p); rng = make_rng() if rng is None else rng\n",
        "    if n <= 20000 and min(n*p, n*(1-p)) <= 1500:\n",
        "        return binomial_inv(n, p, size, rng)\n",
        "    return rng.binomial(n, p, size)"
      ],
      "id": "TRR66JjhSJkU"
    },
    {
      "cell_type": "markdown",
      "metadata": {
        "id": "pLCbwGpTSJkU"
      },
      "source": [
        "## 🎲 Hipergeométrica & Uniforme Discreta"
      ],
      "id": "pLCbwGpTSJkU"
    },
    {
      "cell_type": "code",
      "metadata": {
        "id": "MQErxObUSJkV"
      },
      "execution_count": null,
      "outputs": [],
      "source": [
        "# =========================\n",
        "# Hipergeométrica (inversão por razão) e Uniforme Discreta (sem viés)\n",
        "# =========================\n",
        "def hypergeom_inv(N, K, n, size, rng=None):\n",
        "    \"\"\"Inversão via recorrência de razões para HGe(N,K,n).\n",
        "    Retorna #sucessos em n retiradas sem reposição (uso didático; tamanhos moderados).\n",
        "    \"\"\"\n",
        "    rng = make_rng() if rng is None else rng\n",
        "    N = int(N); K = int(K); n = int(n)\n",
        "    kmin = max(0, n - (N - K))\n",
        "    kmax = min(n, K)\n",
        "    out = np.empty(size, dtype=int)\n",
        "    for i in range(size):\n",
        "        u = rng.random()\n",
        "        k = kmin\n",
        "        w = 1.0  # peso relativo inicial\n",
        "        c = w\n",
        "        while u > c and k < kmax:\n",
        "            r = ((K - k) * (n - k)) / ((k + 1) * (N - K - n + k + 1))\n",
        "            w *= r\n",
        "            c += w\n",
        "            k += 1\n",
        "        out[i] = k\n",
        "    return out\n",
        "\n",
        "def discrete_uniform(a, b, size, rng=None):\n",
        "    \"\"\"Uniforme discreta não-viesada em {a,...,b} (método do módulo com rejeição).\"\"\"\n",
        "    rng = make_rng() if rng is None else rng\n",
        "    a = int(a); b = int(b)\n",
        "    R = b - a + 1\n",
        "    out = np.empty(size, dtype=int)\n",
        "    for i in range(size):\n",
        "        while True:\n",
        "            z = rng.integers(0, 1 << 64, dtype=np.uint64)\n",
        "            t = ((1 << 64) // R) * R\n",
        "            if z < t:\n",
        "                out[i] = a + int(z % R)\n",
        "                break\n",
        "    return out"
      ],
      "id": "MQErxObUSJkV"
    },
    {
      "cell_type": "markdown",
      "metadata": {
        "id": "FhuwdpTbSJkV"
      },
      "source": [
        "## 📊 Dicas de Gráficos (matplotlib)\n",
        "- Use **apenas `matplotlib`**, um gráfico por figura;\n",
        "- Não fixe cores manualmente (padrão é suficiente);\n",
        "- Exemplos abaixo geram histogramas e comparações empírico vs teórico."
      ],
      "id": "FhuwdpTbSJkV"
    },
    {
      "cell_type": "code",
      "metadata": {
        "id": "HJpRp6yrSJkV"
      },
      "execution_count": null,
      "outputs": [],
      "source": [
        "import matplotlib.pyplot as plt\n",
        "\n",
        "def plot_categorical_empirical_vs_theoretical(samples, p):\n",
        "    p = np.asarray(p, dtype=float); p = p / p.sum()\n",
        "    K = len(p)\n",
        "    counts = np.bincount(samples, minlength=K)\n",
        "    emp = counts / counts.sum()\n",
        "    idx = np.arange(K)\n",
        "    plt.figure()\n",
        "    plt.bar(idx - 0.2, emp, width=0.4, label=\"Empírico\")\n",
        "    plt.bar(idx + 0.2, p, width=0.4, label=\"Teórico\")\n",
        "    plt.xlabel(\"Categoria\")\n",
        "    plt.ylabel(\"Probabilidade\")\n",
        "    plt.title(\"Categórica: Empírico vs Teórico\")\n",
        "    plt.legend()\n",
        "    plt.show()\n",
        "\n",
        "def plot_histogram_discrete(samples, title=\"Histograma (discreto)\"):\n",
        "    vals, counts = np.unique(samples, return_counts=True)\n",
        "    plt.figure()\n",
        "    plt.bar(vals, counts / counts.sum())\n",
        "    plt.xlabel(\"Valor\")\n",
        "    plt.ylabel(\"Frequência relativa\")\n",
        "    plt.title(title)\n",
        "    plt.show()"
      ],
      "id": "HJpRp6yrSJkV"
    },
    {
      "cell_type": "markdown",
      "metadata": {
        "id": "r5DJPC4iSJkV"
      },
      "source": [
        "## 🧪 Exemplos Rápidos (execute as células)"
      ],
      "id": "r5DJPC4iSJkV"
    },
    {
      "cell_type": "code",
      "metadata": {
        "id": "p-pY8TybSJkW"
      },
      "execution_count": null,
      "outputs": [],
      "source": [
        "# RNG base\n",
        "rng = make_rng(2025)\n",
        "\n",
        "# 1) Categórica: inversa vs alias\n",
        "p = np.array([0.05, 0.10, 0.15, 0.20, 0.50])\n",
        "alias = AliasTable(p)\n",
        "\n",
        "x_inv, t_inv = time_draw(categorical_inverse, p, 200_000, rng=rng)\n",
        "x_alias, t_alias = time_draw(alias.sample, 200_000, rng=rng)\n",
        "print(f\"Inversa: {t_inv:.4f}s | Alias: {t_alias:.4f}s\")\n",
        "\n",
        "# Validação: qui-quadrado e gráfico\n",
        "stat, df, pval = chisq_discrete(x_alias, np.arange(len(p)), p)\n",
        "print(f\"Qui-quadrado (alias): stat={stat:.2f}, gl={df}, p={pval}\")\n",
        "plot_categorical_empirical_vs_theoretical(x_alias, p)\n",
        "\n",
        "# 2) Poisson em vários λ\n",
        "for lam in [1, 5, 20, 100]:\n",
        "    x, t = time_draw(poisson_any, lam, 200_000, rng=rng)\n",
        "    mean_emp, var_emp, dmu, dvar = check_moments(x, lam, lam)\n",
        "    print(f\"Pois({lam}): t={t:.4f}s | média={mean_emp:.3f} (Δ{dmu:.3f}) | var={var_emp:.3f} (Δ{dvar:.3f})\")\n",
        "    if lam <= 20:\n",
        "        plot_histogram_discrete(x, title=f\"Poisson({lam})\")\n",
        "\n",
        "# 3) Binomial (n moderado) e checagem de momentos\n",
        "n, pbin = 2000, 0.3\n",
        "x, t = time_draw(binomial_any, n, pbin, 200_000, rng=rng)\n",
        "mu = n * pbin; var = n * pbin * (1 - pbin)\n",
        "mean_emp, var_emp, dmu, dvar = check_moments(x, mu, var)\n",
        "print(f\"Bin({n},{pbin}): t={t:.4f}s | média={mean_emp:.2f} (Δ{dmu:.2f}) | var={var_emp:.2f} (Δ{dvar:.2f})\")"
      ],
      "id": "p-pY8TybSJkW"
    }
  ]
}