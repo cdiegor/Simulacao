{
  "nbformat": 4,
  "nbformat_minor": 0,
  "metadata": {
    "colab": {
      "provenance": [],
      "collapsed_sections": []
    },
    "kernelspec": {
      "name": "python3",
      "display_name": "Python 3"
    },
    "language_info": {
      "name": "python"
    }
  },
  "cells": [
    {
      "cell_type": "markdown",
      "source": [
        "# Linear Congruential Generator"
      ],
      "metadata": {
        "id": "k3ArofV64mg2"
      }
    },
    {
      "cell_type": "code",
      "execution_count": null,
      "metadata": {
        "id": "WUshk2ZA4j_5"
      },
      "outputs": [],
      "source": [
        "def lcg():\n",
        "\n",
        "    r = 88675123\n",
        "    a = 1140671485\n",
        "    c = 128201163\n",
        "    m = 2**24\n",
        "\n",
        "    def _random():\n",
        "        nonlocal a, c, m, r\n",
        "        r = (a*r + c) % m\n",
        "        return r\n",
        "\n",
        "    return _random"
      ]
    },
    {
      "cell_type": "code",
      "source": [
        "r = lcg();\n",
        "\n",
        "for i in range(10):\n",
        "    print(r())"
      ],
      "metadata": {
        "colab": {
          "base_uri": "https://localhost:8080/"
        },
        "id": "3VQRjr_D5ABP",
        "outputId": "e94f462d-95ca-49b6-a886-b5fdc5092621"
      },
      "execution_count": null,
      "outputs": [
        {
          "output_type": "stream",
          "name": "stdout",
          "text": [
            "4817970\n",
            "5172533\n",
            "1736236\n",
            "5531463\n",
            "4249590\n",
            "6095337\n",
            "5509136\n",
            "12337563\n",
            "760058\n",
            "3526365\n"
          ]
        }
      ]
    }
  ]
}