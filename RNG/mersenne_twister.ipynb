{
  "nbformat": 4,
  "nbformat_minor": 0,
  "metadata": {
    "colab": {
      "provenance": []
    },
    "kernelspec": {
      "name": "python3",
      "display_name": "Python 3"
    },
    "language_info": {
      "name": "python"
    }
  },
  "cells": [
    {
      "cell_type": "markdown",
      "source": [
        "# Mersenne Twister"
      ],
      "metadata": {
        "id": "f2W_qWW66NzA"
      }
    },
    {
      "cell_type": "code",
      "execution_count": null,
      "metadata": {
        "id": "CZTpevWQ6L9R"
      },
      "outputs": [],
      "source": [
        "# coefficients for MT19937\n",
        "(w, n, m, r) = (32, 624, 397, 31)\n",
        "a = 0x9908B0DF\n",
        "(u, d) = (11, 0xFFFFFFFF)\n",
        "(s, b) = (7, 0x9D2C5680)\n",
        "(t, c) = (15, 0xEFC60000)\n",
        "l = 18\n",
        "f = 1812433253\n",
        "\n",
        "\n",
        "# make a arry to store the state of the generator\n",
        "MT = [0 for i in range(n)]\n",
        "index = n+1\n",
        "lower_mask = 0x7FFFFFFF #(1 << r) - 1 // That is, the binary number of r 1's\n",
        "upper_mask = 0x80000000 #lowest w bits of (not lower_mask)\n",
        "\n",
        "\n",
        "# initialize the generator from a seed\n",
        "def mt_seed(seed):\n",
        "    # global index\n",
        "    # index = n\n",
        "    MT[0] = seed\n",
        "    for i in range(1, n):\n",
        "        temp = f * (MT[i-1] ^ (MT[i-1] >> (w-2))) + i\n",
        "        MT[i] = temp & 0xffffffff\n",
        "\n",
        "\n",
        "# Extract a tempered value based on MT[index]\n",
        "# calling twist() every n numbers\n",
        "def extract_number():\n",
        "    global index\n",
        "    if index >= n:\n",
        "        twist()\n",
        "        index = 0\n",
        "\n",
        "    y = MT[index]\n",
        "    y = y ^ ((y >> u) & d)\n",
        "    y = y ^ ((y << s) & b)\n",
        "    y = y ^ ((y << t) & c)\n",
        "    y = y ^ (y >> l)\n",
        "\n",
        "    index += 1\n",
        "    return y & 0xffffffff\n",
        "\n",
        "\n",
        "# Generate the next n values from the series x_i\n",
        "def twist():\n",
        "    for i in range(0, n):\n",
        "        x = (MT[i] & upper_mask) + (MT[(i+1) % n] & lower_mask)\n",
        "        xA = x >> 1\n",
        "        if (x % 2) != 0:\n",
        "            xA = xA ^ a\n",
        "        MT[i] = MT[(i + m) % n] ^ xA\n"
      ]
    },
    {
      "cell_type": "code",
      "source": [
        "\n",
        "mt_seed(88675123)\n",
        "\n",
        "\n",
        "for i in range(10):\n",
        "    print(extract_number())\n"
      ],
      "metadata": {
        "colab": {
          "base_uri": "https://localhost:8080/"
        },
        "id": "KC3MfQ2V6Mjg",
        "outputId": "31ebcb74-24c3-4795-86b9-cad292c26458"
      },
      "execution_count": null,
      "outputs": [
        {
          "output_type": "stream",
          "name": "stdout",
          "text": [
            "850801869\n",
            "3025615833\n",
            "4042959964\n",
            "3796890701\n",
            "311237295\n",
            "1518088322\n",
            "80664747\n",
            "651363781\n",
            "2058734991\n",
            "2914461348\n"
          ]
        }
      ]
    }
  ]
}