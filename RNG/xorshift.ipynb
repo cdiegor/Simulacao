{
  "nbformat": 4,
  "nbformat_minor": 0,
  "metadata": {
    "colab": {
      "provenance": []
    },
    "kernelspec": {
      "name": "python3",
      "display_name": "Python 3"
    },
    "language_info": {
      "name": "python"
    }
  },
  "cells": [
    {
      "cell_type": "markdown",
      "source": [
        "# Xorshift"
      ],
      "metadata": {
        "id": "VP-lc21N3r5f"
      }
    },
    {
      "cell_type": "code",
      "execution_count": null,
      "metadata": {
        "id": "hzvh1RpX3nbe"
      },
      "outputs": [],
      "source": [
        "# XORSHIFT\n",
        "\n",
        "def xorshift128():\n",
        "    '''xorshift\n",
        "\n",
        "    https://ja.wikipedia.org/wiki/Xorshift\n",
        "    '''\n",
        "\n",
        "    x = 123456789\n",
        "    y = 362436069\n",
        "    z = 521288629\n",
        "    w = 88675123\n",
        "\n",
        "    def _random():\n",
        "        nonlocal x, y, z, w\n",
        "        t = x ^ ((x << 11) & 0xFFFFFFFF)  # 32bit\n",
        "        x, y, z = y, z, w\n",
        "        w = (w ^ (w >> 19)) ^ (t ^ (t >> 8))\n",
        "        return w\n",
        "\n",
        "    return _random\n"
      ]
    },
    {
      "cell_type": "code",
      "source": [
        "r = xorshift128()\n",
        "\n",
        "for i in range(10):\n",
        "    print(r())"
      ],
      "metadata": {
        "colab": {
          "base_uri": "https://localhost:8080/"
        },
        "id": "VtSuwuZy33Nv",
        "outputId": "e1b46aba-87ff-4976-a43c-65b471fb1ffa"
      },
      "execution_count": null,
      "outputs": [
        {
          "output_type": "stream",
          "name": "stdout",
          "text": [
            "3701687786\n",
            "458299110\n",
            "2500872618\n",
            "3633119408\n",
            "516391518\n",
            "2377269574\n",
            "2599949379\n",
            "717229868\n",
            "137866584\n",
            "395339113\n"
          ]
        }
      ]
    }
  ]
}